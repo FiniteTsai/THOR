{
 "cells": [
  {
   "cell_type": "code",
   "execution_count": null,
   "metadata": {},
   "outputs": [],
   "source": [
    "# All configs\n",
    "\n",
    "base_path = \"../Alfrodull/experiments/ubelix/\"\n",
    "\n",
    "thor_output_dir = \"walf_spinup\"\n",
    "planet_name = \"Wasp43b\"\n",
    "\n",
    "FIGSIZE = (10, 7)"
   ]
  },
  {
   "cell_type": "code",
   "execution_count": null,
   "metadata": {},
   "outputs": [],
   "source": [
    "import mjolnir_plot_helper as mph\n",
    "\n",
    "import pathlib\n",
    "\n",
    "#%matplotlib notebook\n",
    "%matplotlib inline\n",
    "import matplotlib.pyplot as plt\n",
    "\n",
    "import numpy as np\n",
    "\n",
    "import re\n",
    "\n",
    "import h5py\n",
    "\n",
    "from file_helpers import (get_path_matching_regex_with_groups,\n",
    "                          get_path_matching_regex)\n",
    "\n",
    "import hamarr as ham\n",
    "\n",
    "import IPython.display as disp\n",
    "\n",
    "from PIL import Image, ImageDraw, ImageFont, ImageOps\n",
    " \n",
    "import imageio\n",
    "\n",
    "from pygifsicle import optimize"
   ]
  },
  {
   "cell_type": "code",
   "execution_count": null,
   "metadata": {},
   "outputs": [],
   "source": [
    "exp_path = pathlib.Path(base_path) / thor_output_dir"
   ]
  },
  {
   "cell_type": "code",
   "execution_count": null,
   "metadata": {},
   "outputs": [],
   "source": [
    "# get count of output files\n",
    "\n",
    "# get output files\n",
    "outputs = get_path_matching_regex_with_groups(exp_path, f\"esp_output_{planet_name}_(\\d+).h5\" )\n",
    "\n",
    "# sort'em\n",
    "d = {}\n",
    "\n",
    "for o in outputs:\n",
    "    p = o['path']\n",
    "    (idx_chr,) = o['groups']\n",
    "    idx = int(idx_chr)\n",
    "    # print(f\"{idx} - {p}\")\n",
    "    d[idx] = p\n",
    "    \n",
    "sorted_files = sorted(d.items())\n",
    "\n",
    "\n",
    "first_idx = sorted_files[0][0]\n",
    "last_idx = sorted_files[-2][0] "
   ]
  },
  {
   "cell_type": "code",
   "execution_count": null,
   "metadata": {},
   "outputs": [],
   "source": [
    "class args:\n",
    "    pass\n",
    "\n",
    "file_idx = 1\n",
    "\n",
    "args.pview = ['fuptot']\n",
    "args.file = [str(exp_path)]\n",
    "args.simulation_ID = ['auto']\n",
    "args.initial_file = [file_idx]\n",
    "args.last_file = [file_idx]\n",
    "args.horizontal_lev = [2.5e2]\n",
    "args.vertical_top = ['default']\n",
    "args.split_layer = ['no_split']\n",
    "args.coordinate_sys = ['icoh']\n",
    "args.lmax_adjust = [0]\n",
    "args.slice = [0, 180]\n",
    "args.maketable = False\n",
    "args.no_pressure_log = False\n",
    "args.latlonswap = False\n",
    "args.vcoord = ['pressure']\n",
    "args.pgrid_ref = [f'pgrid_{file_idx}_{file_idx}_1.txt']\n",
    "args.clevels = [40]"
   ]
  },
  {
   "cell_type": "code",
   "execution_count": null,
   "metadata": {},
   "outputs": [],
   "source": [
    "figures_dir = exp_path / \"figures\"\n",
    "if not figures_dir.exists():\n",
    "    figures_dir.mkdir(parents=True, exist_ok=True)"
   ]
  },
  {
   "cell_type": "code",
   "execution_count": null,
   "metadata": {
    "scrolled": false
   },
   "outputs": [],
   "source": [
    "\n",
    "\n",
    "def plot_anim_steps(first_idx, last_idx, args, plot_filename, overwrite_anim=False):\n",
    "    stride = 1\n",
    "    overwrite = False\n",
    "    output_image = exp_path / \"figures\" / plot_filename\n",
    "    \n",
    "    if output_image.exists() and not overwrite_anim:\n",
    "        print(f\"{output_image} already exists, skipping. Set overwrite_anim = True to force\")\n",
    "        return output_image\n",
    "    \n",
    "    fps = 10\n",
    "    writer = imageio.get_writer(str(output_image), fps=fps)\n",
    "\n",
    "\n",
    "    # for dev, force to use a small number of files\n",
    "    #last_idx  = 20\n",
    "    fig, ax = plt.subplots(1,1, figsize=FIGSIZE)    \n",
    "\n",
    "    for i in range(first_idx, last_idx):\n",
    "    \n",
    "        print(f\"plotting: {i: 5}/{last_idx}\\r\", end='')\n",
    "        args.initial_file = [i]\n",
    "        args.last_file = [i]\n",
    "        args.pgrid_ref = [f'pgrid_{i}_{i}_1.txt']\n",
    "\n",
    "    \n",
    "    \n",
    "        fig.clear()\n",
    "        ax = fig.add_subplot(111)\n",
    "    \n",
    "        pgrid_ref = exp_path / args.pgrid_ref[0]\n",
    "        if pgrid_ref.exists():\n",
    "            pass\n",
    "        else:\n",
    "            ham.define_Pgrid(args.file[0],\n",
    "                             planet_name,\n",
    "                             args.initial_file[0],\n",
    "                             args.last_file[0],\n",
    "                             stride,\n",
    "                             overwrite=overwrite)\n",
    "    \n",
    "        mph.make_plot(args,False, axis=(fig, ax))\n",
    "    \n",
    "    \n",
    "        canvas = fig.canvas\n",
    "\n",
    "        # Option 2: Retrieve a view on the renderer buffer...\n",
    "        canvas.draw()\n",
    "        buf = canvas.buffer_rgba()\n",
    "        # ... convert to a NumPy array ...\n",
    "        X = np.asarray(buf)\n",
    "        # ... and pass it to PIL.\n",
    "        #im = Image.fromarray(X)\n",
    "    \n",
    "        writer.append_data(X)\n",
    "    \n",
    "    \n",
    "    writer.close()\n",
    "\n",
    "    optimize(str(output_image))\n",
    "    \n",
    "    return output_image\n",
    "\n",
    "def plot_steps(plot_type, first_idx, last_idx, args):\n",
    "    fig, ((ax_first, ax_last),\n",
    "          (ax_second, ax_mid)) = plt.subplots(2,2, figsize=FIGSIZE)\n",
    "\n",
    "    i = first_idx\n",
    "    args.pview = [plot_type]\n",
    "    args.initial_file = [i]\n",
    "    args.last_file = [i]\n",
    "    args.pgrid_ref = [f'pgrid_{i}_{i}_1.txt']\n",
    "\n",
    "\n",
    "    mph.make_plot(args,False, axis=(fig, ax_first))\n",
    "    ttl = ax_first.get_title()\n",
    "    ax_first.set_title(ttl + \"\\n\" + \"First (idx=0)\")\n",
    "\n",
    "    i = last_idx\n",
    "    args.pview = [plot_type]\n",
    "    args.initial_file = [i]\n",
    "    args.last_file = [i]\n",
    "    args.pgrid_ref = [f'pgrid_{i}_{i}_1.txt']\n",
    "\n",
    "\n",
    "    mph.make_plot(args,False, axis=(fig, ax_last))\n",
    "    ttl = ax_last.get_title()\n",
    "    ax_last.set_title(ttl + \"\\n\" + f\"Last (idx={i})\")\n",
    "\n",
    "    i = 1\n",
    "    args.pview = [plot_type]\n",
    "    args.initial_file = [i]\n",
    "    args.last_file = [i]\n",
    "    args.pgrid_ref = [f'pgrid_{i}_{i}_1.txt']\n",
    "\n",
    "\n",
    "    mph.make_plot(args,False, axis=(fig, ax_second))\n",
    "    ttl = ax_second.get_title()\n",
    "    ax_second.set_title(ttl + \"\\n\" + \"First step (idx=1)\")\n",
    "\n",
    "\n",
    "    i = (last_idx - first_idx) // 2\n",
    "    args.pview = [plot_type]\n",
    "    args.initial_file = [i]\n",
    "    args.last_file = [i]\n",
    "    args.pgrid_ref = [f'pgrid_{i}_{i}_1.txt']\n",
    "\n",
    "\n",
    "    mph.make_plot(args,False, axis=(fig, ax_mid))\n",
    "    ttl = ax_mid.get_title()\n",
    "    ax_mid.set_title(ttl + \"\\n\" + f\"Middle step (idx={i})\")\n"
   ]
  },
  {
   "cell_type": "code",
   "execution_count": null,
   "metadata": {},
   "outputs": [],
   "source": [
    "def plot_anim(plotname, plotfile, first, last, args):\n",
    "    print(f\"plotting {plotname} to {plotfile}\")\n",
    "    args.pview = [plotname]\n",
    "    output_image = plot_anim_steps(first_idx, last_idx, args, plotfile)\n",
    "    im = Image.open(output_image)\n",
    "    return disp.Image(output_image, format=\"gif\")"
   ]
  },
  {
   "cell_type": "code",
   "execution_count": null,
   "metadata": {
    "scrolled": false
   },
   "outputs": [],
   "source": [
    "# plots = [         \n",
    "#          (\"TP\", \"TP_anim.gif\"),\n",
    "#          (\"Tver\", \"Tver_anim.gif\"),\n",
    "#          (\"Tlonver\", \"Tver_anim.gif\"),\n",
    "#          (\"fuptot\", \"fuptot_anim.gif\"),\n",
    "#          (\"fdowntot\", \"fdowntot_anim.gif\"),\n",
    "#          (\"fnet\", \"fnet_anim.gif\"),\n",
    "#          (\"qheat\", \"qheat_anim.gif\"),\n",
    "#          (\"futprof\", \"futprof_anim.gif\"),\n",
    "#          (\"fdtprof\", \"fdtprof_anim.gif\"),\n",
    "#          (\"fnetprof\", \"fnetprof_anim.gif\"),\n",
    "#         ]\n",
    "\n",
    "# for plotname, plotfile in plots:\n",
    "#     print(f\"plotting {plotname} to {plotfile}\")\n",
    "#     args.pview = [plotname]\n",
    "#     output_image = plot_anim_steps(first_idx, last_idx, args, plotfile)\n",
    "#     im = Image.open(output_image)\n",
    "#     disp.Image(output_image, format=\"gif\")\n",
    "\n"
   ]
  },
  {
   "cell_type": "markdown",
   "metadata": {},
   "source": [
    "# TP Profile"
   ]
  },
  {
   "cell_type": "code",
   "execution_count": null,
   "metadata": {},
   "outputs": [],
   "source": [
    "plot_anim( \"TP\", \"TP_anim.gif\", first_idx, last_idx, args)"
   ]
  },
  {
   "cell_type": "code",
   "execution_count": null,
   "metadata": {},
   "outputs": [],
   "source": [
    "plot_steps(\"TP\", first_idx, last_idx, args)"
   ]
  },
  {
   "cell_type": "markdown",
   "metadata": {},
   "source": [
    "# Tver"
   ]
  },
  {
   "cell_type": "code",
   "execution_count": null,
   "metadata": {
    "scrolled": false
   },
   "outputs": [],
   "source": [
    "plot_anim( \"Tver\", \"Tver_anim.gif\", first_idx, last_idx, args)"
   ]
  },
  {
   "cell_type": "code",
   "execution_count": null,
   "metadata": {
    "scrolled": false
   },
   "outputs": [],
   "source": [
    "plot_steps(\"Tver\", first_idx, last_idx, args)"
   ]
  },
  {
   "cell_type": "markdown",
   "metadata": {},
   "source": [
    "# Tlonver"
   ]
  },
  {
   "cell_type": "code",
   "execution_count": null,
   "metadata": {
    "scrolled": false
   },
   "outputs": [],
   "source": [
    "plot_anim( \"Tlonver\", \"Tlonver_anim.gif\", first_idx, last_idx, args)"
   ]
  },
  {
   "cell_type": "code",
   "execution_count": null,
   "metadata": {},
   "outputs": [],
   "source": [
    "plot_steps(\"Tlonver\", first_idx, last_idx, args)"
   ]
  },
  {
   "cell_type": "markdown",
   "metadata": {},
   "source": [
    "# Qheat"
   ]
  },
  {
   "cell_type": "code",
   "execution_count": null,
   "metadata": {},
   "outputs": [],
   "source": [
    "plot_anim(\"qheat\", \"qheat_anim.gif\", first_idx, last_idx, args)    "
   ]
  },
  {
   "cell_type": "code",
   "execution_count": null,
   "metadata": {},
   "outputs": [],
   "source": [
    "plot_steps(\"qheat\", first_idx, last_idx, args)"
   ]
  },
  {
   "cell_type": "markdown",
   "metadata": {},
   "source": [
    "# Total Upward Flux \n",
    "\n",
    "## Profile"
   ]
  },
  {
   "cell_type": "code",
   "execution_count": null,
   "metadata": {},
   "outputs": [],
   "source": [
    "plot_anim(\"futprof\", \"futprof_anim.gif\", first_idx, last_idx, args)    "
   ]
  },
  {
   "cell_type": "code",
   "execution_count": null,
   "metadata": {},
   "outputs": [],
   "source": [
    "plot_steps(\"futprof\", first_idx, last_idx, args)"
   ]
  },
  {
   "cell_type": "markdown",
   "metadata": {},
   "source": [
    "## Horizontal"
   ]
  },
  {
   "cell_type": "code",
   "execution_count": null,
   "metadata": {},
   "outputs": [],
   "source": [
    "plot_anim( \"fuptot\", \"fuptot_anim.gif\", first_idx, last_idx, args)"
   ]
  },
  {
   "cell_type": "code",
   "execution_count": null,
   "metadata": {},
   "outputs": [],
   "source": [
    "plot_steps(\"fuptot\", first_idx, last_idx, args)"
   ]
  },
  {
   "cell_type": "markdown",
   "metadata": {},
   "source": [
    "# Total Downward Flux \n",
    "\n",
    "## Profile"
   ]
  },
  {
   "cell_type": "code",
   "execution_count": null,
   "metadata": {},
   "outputs": [],
   "source": [
    "plot_anim(\"fdtprof\", \"fdtprof_anim.gif\", first_idx, last_idx, args)    "
   ]
  },
  {
   "cell_type": "code",
   "execution_count": null,
   "metadata": {},
   "outputs": [],
   "source": [
    "plot_steps(\"fdtprof\", first_idx, last_idx, args)"
   ]
  },
  {
   "cell_type": "markdown",
   "metadata": {},
   "source": [
    "## Horizontal"
   ]
  },
  {
   "cell_type": "code",
   "execution_count": null,
   "metadata": {},
   "outputs": [],
   "source": [
    "plot_anim(\"fdowntot\", \"fdowntot_anim.gif\", first_idx, last_idx, args)"
   ]
  },
  {
   "cell_type": "code",
   "execution_count": null,
   "metadata": {},
   "outputs": [],
   "source": [
    "plot_steps(\"fdowntot\", first_idx, last_idx, args)"
   ]
  },
  {
   "cell_type": "markdown",
   "metadata": {},
   "source": [
    "# Total Net Flux \n",
    "\n",
    "## Profile"
   ]
  },
  {
   "cell_type": "code",
   "execution_count": null,
   "metadata": {},
   "outputs": [],
   "source": [
    "plot_anim(\"fnetprof\", \"fnetprof_anim.gif\", first_idx, last_idx, args)"
   ]
  },
  {
   "cell_type": "code",
   "execution_count": null,
   "metadata": {},
   "outputs": [],
   "source": [
    "plot_steps(\"fnetprof\", first_idx, last_idx, args)"
   ]
  },
  {
   "cell_type": "markdown",
   "metadata": {},
   "source": [
    "## Horizontal"
   ]
  },
  {
   "cell_type": "code",
   "execution_count": null,
   "metadata": {},
   "outputs": [],
   "source": [
    "plot_anim(\"fnet\", \"fnet_anim.gif\", first_idx, last_idx, args)"
   ]
  },
  {
   "cell_type": "code",
   "execution_count": null,
   "metadata": {},
   "outputs": [],
   "source": [
    "plot_steps(\"fnet\", first_idx, last_idx, args)"
   ]
  },
  {
   "cell_type": "code",
   "execution_count": null,
   "metadata": {},
   "outputs": [],
   "source": []
  },
  {
   "cell_type": "code",
   "execution_count": null,
   "metadata": {},
   "outputs": [],
   "source": []
  },
  {
   "cell_type": "code",
   "execution_count": null,
   "metadata": {},
   "outputs": [],
   "source": []
  },
  {
   "cell_type": "code",
   "execution_count": null,
   "metadata": {},
   "outputs": [],
   "source": []
  },
  {
   "cell_type": "code",
   "execution_count": null,
   "metadata": {},
   "outputs": [],
   "source": []
  }
 ],
 "metadata": {
  "kernelspec": {
   "display_name": "Python 3",
   "language": "python",
   "name": "python3"
  },
  "language_info": {
   "codemirror_mode": {
    "name": "ipython",
    "version": 3
   },
   "file_extension": ".py",
   "mimetype": "text/x-python",
   "name": "python",
   "nbconvert_exporter": "python",
   "pygments_lexer": "ipython3",
   "version": "3.7.7"
  }
 },
 "nbformat": 4,
 "nbformat_minor": 4
}
